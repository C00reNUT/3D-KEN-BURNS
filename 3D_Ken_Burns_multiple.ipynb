{
  "nbformat": 4,
  "nbformat_minor": 0,
  "metadata": {
    "colab": {
      "name": "3D-Ken-Burns-multiple.ipynb",
      "provenance": [],
      "collapsed_sections": []
    },
    "kernelspec": {
      "name": "python3",
      "display_name": "Python 3"
    },
    "accelerator": "GPU"
  },
  "cells": [
    {
      "cell_type": "markdown",
      "metadata": {
        "id": "uCEixJujApc8"
      },
      "source": [
        "# 3D Ken Burns\n",
        "This is a reference implementation of 3D Ken Burns Effect from a Single Image [1] using PyTorch. Given a single input image, it animates this still image with a virtual camera scan and zoom subject to motion parallax. Should you be making use of our work, please cite our paper [1].\n",
        "\n",
        "<a href=\"https://arxiv.org/abs/1909.05483\" rel=\"Paper\"><img src=\"http://content.sniklaus.com/kenburns/paper.jpg\" alt=\"Paper\" width=\"100%\"></a>\n"
      ]
    },
    {
      "cell_type": "markdown",
      "metadata": {
        "id": "h_Mo54wdgBXT"
      },
      "source": [
        "# Project Details \n",
        "This implementation will allow you to select and upload any custom image. The final result can be downloaded as a .mp4 file. We have covered all aspects of this project, this notebook runs without any errors!"
      ]
    },
    {
      "cell_type": "markdown",
      "metadata": {
        "id": "YXK9VNecNQEF"
      },
      "source": [
        "### 1. Clone the project"
      ]
    },
    {
      "cell_type": "code",
      "metadata": {
        "id": "ZbYRw_GlCL5w",
        "colab": {
          "base_uri": "https://localhost:8080/"
        },
        "outputId": "03e31a1e-5fe1-4f17-82a7-7060ed7907af"
      },
      "source": [
        "!git clone https://github.com/sniklaus/3d-ken-burns.git"
      ],
      "execution_count": null,
      "outputs": [
        {
          "output_type": "stream",
          "text": [
            "Cloning into '3d-ken-burns'...\n",
            "remote: Enumerating objects: 167, done.\u001b[K\n",
            "remote: Counting objects: 100% (42/42), done.\u001b[K\n",
            "remote: Compressing objects: 100% (30/30), done.\u001b[K\n",
            "remote: Total 167 (delta 19), reused 31 (delta 12), pack-reused 125\u001b[K\n",
            "Receiving objects: 100% (167/167), 347.60 KiB | 1.84 MiB/s, done.\n",
            "Resolving deltas: 100% (92/92), done.\n"
          ],
          "name": "stdout"
        }
      ]
    },
    {
      "cell_type": "markdown",
      "metadata": {
        "id": "06tpWil4A6Ck"
      },
      "source": [
        "### 2. Download pretrained models"
      ]
    },
    {
      "cell_type": "code",
      "metadata": {
        "id": "jy-x7Cm7AymM",
        "colab": {
          "base_uri": "https://localhost:8080/"
        },
        "outputId": "0d6e3831-de93-49a0-9617-0ff4fb7064a0"
      },
      "source": [
        "!wget -O ./3d-ken-burns/models/disparity-estimation.pytorch http://content.sniklaus.com/kenburns/network-disparity.pytorch\n",
        "!wget -O ./3d-ken-burns/models/disparity-refinement.pytorch http://content.sniklaus.com/kenburns/network-refinement.pytorch\n",
        "!wget -O ./3d-ken-burns/models/pointcloud-inpainting.pytorch http://content.sniklaus.com/kenburns/network-inpainting.pytorch"
      ],
      "execution_count": null,
      "outputs": [
        {
          "output_type": "stream",
          "text": [
            "--2021-07-18 18:06:37--  http://content.sniklaus.com/kenburns/network-disparity.pytorch\n",
            "Resolving content.sniklaus.com (content.sniklaus.com)... 88.198.95.97\n",
            "Connecting to content.sniklaus.com (content.sniklaus.com)|88.198.95.97|:80... connected.\n",
            "HTTP request sent, awaiting response... 200 OK\n",
            "Length: 357438463 (341M) [application/octet-stream]\n",
            "Saving to: ‘./3d-ken-burns/models/disparity-estimation.pytorch’\n",
            "\n",
            "./3d-ken-burns/mode 100%[===================>] 340.88M  18.9MB/s    in 19s     \n",
            "\n",
            "2021-07-18 18:06:56 (17.8 MB/s) - ‘./3d-ken-burns/models/disparity-estimation.pytorch’ saved [357438463/357438463]\n",
            "\n",
            "--2021-07-18 18:06:56--  http://content.sniklaus.com/kenburns/network-refinement.pytorch\n",
            "Resolving content.sniklaus.com (content.sniklaus.com)... 88.198.95.97\n",
            "Connecting to content.sniklaus.com (content.sniklaus.com)|88.198.95.97|:80... connected.\n",
            "HTTP request sent, awaiting response... 200 OK\n",
            "Length: 2438928 (2.3M) [application/octet-stream]\n",
            "Saving to: ‘./3d-ken-burns/models/disparity-refinement.pytorch’\n",
            "\n",
            "./3d-ken-burns/mode 100%[===================>]   2.33M  2.26MB/s    in 1.0s    \n",
            "\n",
            "2021-07-18 18:06:58 (2.26 MB/s) - ‘./3d-ken-burns/models/disparity-refinement.pytorch’ saved [2438928/2438928]\n",
            "\n",
            "--2021-07-18 18:06:58--  http://content.sniklaus.com/kenburns/network-inpainting.pytorch\n",
            "Resolving content.sniklaus.com (content.sniklaus.com)... 88.198.95.97\n",
            "Connecting to content.sniklaus.com (content.sniklaus.com)|88.198.95.97|:80... connected.\n",
            "HTTP request sent, awaiting response... 200 OK\n",
            "Length: 33179067 (32M) [application/octet-stream]\n",
            "Saving to: ‘./3d-ken-burns/models/pointcloud-inpainting.pytorch’\n",
            "\n",
            "./3d-ken-burns/mode 100%[===================>]  31.64M  11.9MB/s    in 2.7s    \n",
            "\n",
            "2021-07-18 18:07:01 (11.9 MB/s) - ‘./3d-ken-burns/models/pointcloud-inpainting.pytorch’ saved [33179067/33179067]\n",
            "\n"
          ],
          "name": "stdout"
        }
      ]
    },
    {
      "cell_type": "code",
      "metadata": {
        "id": "w5PBRLqUGYbk",
        "colab": {
          "base_uri": "https://localhost:8080/"
        },
        "outputId": "e851e1b4-9f23-4561-9671-e707a66d89c0"
      },
      "source": [
        "!pip install chainer\n",
        "import chainer\n",
        "chainer.print_runtime_info()"
      ],
      "execution_count": null,
      "outputs": [
        {
          "output_type": "stream",
          "text": [
            "Collecting chainer\n",
            "\u001b[?25l  Downloading https://files.pythonhosted.org/packages/8c/44/956e782948d65d30716e638f070b82d67bda4abc7038be90682739bf8768/chainer-7.8.0.tar.gz (1.0MB)\n",
            "\r\u001b[K     |▎                               | 10kB 23.5MB/s eta 0:00:01\r\u001b[K     |▋                               | 20kB 25.4MB/s eta 0:00:01\r\u001b[K     |█                               | 30kB 17.2MB/s eta 0:00:01\r\u001b[K     |█▎                              | 40kB 15.3MB/s eta 0:00:01\r\u001b[K     |█▋                              | 51kB 7.8MB/s eta 0:00:01\r\u001b[K     |█▉                              | 61kB 8.2MB/s eta 0:00:01\r\u001b[K     |██▏                             | 71kB 8.7MB/s eta 0:00:01\r\u001b[K     |██▌                             | 81kB 8.1MB/s eta 0:00:01\r\u001b[K     |██▉                             | 92kB 8.4MB/s eta 0:00:01\r\u001b[K     |███▏                            | 102kB 9.0MB/s eta 0:00:01\r\u001b[K     |███▌                            | 112kB 9.0MB/s eta 0:00:01\r\u001b[K     |███▊                            | 122kB 9.0MB/s eta 0:00:01\r\u001b[K     |████                            | 133kB 9.0MB/s eta 0:00:01\r\u001b[K     |████▍                           | 143kB 9.0MB/s eta 0:00:01\r\u001b[K     |████▊                           | 153kB 9.0MB/s eta 0:00:01\r\u001b[K     |█████                           | 163kB 9.0MB/s eta 0:00:01\r\u001b[K     |█████▍                          | 174kB 9.0MB/s eta 0:00:01\r\u001b[K     |█████▋                          | 184kB 9.0MB/s eta 0:00:01\r\u001b[K     |██████                          | 194kB 9.0MB/s eta 0:00:01\r\u001b[K     |██████▎                         | 204kB 9.0MB/s eta 0:00:01\r\u001b[K     |██████▋                         | 215kB 9.0MB/s eta 0:00:01\r\u001b[K     |███████                         | 225kB 9.0MB/s eta 0:00:01\r\u001b[K     |███████▏                        | 235kB 9.0MB/s eta 0:00:01\r\u001b[K     |███████▌                        | 245kB 9.0MB/s eta 0:00:01\r\u001b[K     |███████▉                        | 256kB 9.0MB/s eta 0:00:01\r\u001b[K     |████████▏                       | 266kB 9.0MB/s eta 0:00:01\r\u001b[K     |████████▌                       | 276kB 9.0MB/s eta 0:00:01\r\u001b[K     |████████▉                       | 286kB 9.0MB/s eta 0:00:01\r\u001b[K     |█████████                       | 296kB 9.0MB/s eta 0:00:01\r\u001b[K     |█████████▍                      | 307kB 9.0MB/s eta 0:00:01\r\u001b[K     |█████████▊                      | 317kB 9.0MB/s eta 0:00:01\r\u001b[K     |██████████                      | 327kB 9.0MB/s eta 0:00:01\r\u001b[K     |██████████▍                     | 337kB 9.0MB/s eta 0:00:01\r\u001b[K     |██████████▊                     | 348kB 9.0MB/s eta 0:00:01\r\u001b[K     |███████████                     | 358kB 9.0MB/s eta 0:00:01\r\u001b[K     |███████████▎                    | 368kB 9.0MB/s eta 0:00:01\r\u001b[K     |███████████▋                    | 378kB 9.0MB/s eta 0:00:01\r\u001b[K     |████████████                    | 389kB 9.0MB/s eta 0:00:01\r\u001b[K     |████████████▎                   | 399kB 9.0MB/s eta 0:00:01\r\u001b[K     |████████████▋                   | 409kB 9.0MB/s eta 0:00:01\r\u001b[K     |████████████▉                   | 419kB 9.0MB/s eta 0:00:01\r\u001b[K     |█████████████▏                  | 430kB 9.0MB/s eta 0:00:01\r\u001b[K     |█████████████▌                  | 440kB 9.0MB/s eta 0:00:01\r\u001b[K     |█████████████▉                  | 450kB 9.0MB/s eta 0:00:01\r\u001b[K     |██████████████▏                 | 460kB 9.0MB/s eta 0:00:01\r\u001b[K     |██████████████▍                 | 471kB 9.0MB/s eta 0:00:01\r\u001b[K     |██████████████▊                 | 481kB 9.0MB/s eta 0:00:01\r\u001b[K     |███████████████                 | 491kB 9.0MB/s eta 0:00:01\r\u001b[K     |███████████████▍                | 501kB 9.0MB/s eta 0:00:01\r\u001b[K     |███████████████▊                | 512kB 9.0MB/s eta 0:00:01\r\u001b[K     |████████████████                | 522kB 9.0MB/s eta 0:00:01\r\u001b[K     |████████████████▎               | 532kB 9.0MB/s eta 0:00:01\r\u001b[K     |████████████████▋               | 542kB 9.0MB/s eta 0:00:01\r\u001b[K     |█████████████████               | 552kB 9.0MB/s eta 0:00:01\r\u001b[K     |█████████████████▎              | 563kB 9.0MB/s eta 0:00:01\r\u001b[K     |█████████████████▋              | 573kB 9.0MB/s eta 0:00:01\r\u001b[K     |██████████████████              | 583kB 9.0MB/s eta 0:00:01\r\u001b[K     |██████████████████▏             | 593kB 9.0MB/s eta 0:00:01\r\u001b[K     |██████████████████▌             | 604kB 9.0MB/s eta 0:00:01\r\u001b[K     |██████████████████▉             | 614kB 9.0MB/s eta 0:00:01\r\u001b[K     |███████████████████▏            | 624kB 9.0MB/s eta 0:00:01\r\u001b[K     |███████████████████▌            | 634kB 9.0MB/s eta 0:00:01\r\u001b[K     |███████████████████▉            | 645kB 9.0MB/s eta 0:00:01\r\u001b[K     |████████████████████            | 655kB 9.0MB/s eta 0:00:01\r\u001b[K     |████████████████████▍           | 665kB 9.0MB/s eta 0:00:01\r\u001b[K     |████████████████████▊           | 675kB 9.0MB/s eta 0:00:01\r\u001b[K     |█████████████████████           | 686kB 9.0MB/s eta 0:00:01\r\u001b[K     |█████████████████████▍          | 696kB 9.0MB/s eta 0:00:01\r\u001b[K     |█████████████████████▋          | 706kB 9.0MB/s eta 0:00:01\r\u001b[K     |██████████████████████          | 716kB 9.0MB/s eta 0:00:01\r\u001b[K     |██████████████████████▎         | 727kB 9.0MB/s eta 0:00:01\r\u001b[K     |██████████████████████▋         | 737kB 9.0MB/s eta 0:00:01\r\u001b[K     |███████████████████████         | 747kB 9.0MB/s eta 0:00:01\r\u001b[K     |███████████████████████▎        | 757kB 9.0MB/s eta 0:00:01\r\u001b[K     |███████████████████████▌        | 768kB 9.0MB/s eta 0:00:01\r\u001b[K     |███████████████████████▉        | 778kB 9.0MB/s eta 0:00:01\r\u001b[K     |████████████████████████▏       | 788kB 9.0MB/s eta 0:00:01\r\u001b[K     |████████████████████████▌       | 798kB 9.0MB/s eta 0:00:01\r\u001b[K     |████████████████████████▉       | 808kB 9.0MB/s eta 0:00:01\r\u001b[K     |█████████████████████████▏      | 819kB 9.0MB/s eta 0:00:01\r\u001b[K     |█████████████████████████▍      | 829kB 9.0MB/s eta 0:00:01\r\u001b[K     |█████████████████████████▊      | 839kB 9.0MB/s eta 0:00:01\r\u001b[K     |██████████████████████████      | 849kB 9.0MB/s eta 0:00:01\r\u001b[K     |██████████████████████████▍     | 860kB 9.0MB/s eta 0:00:01\r\u001b[K     |██████████████████████████▊     | 870kB 9.0MB/s eta 0:00:01\r\u001b[K     |███████████████████████████     | 880kB 9.0MB/s eta 0:00:01\r\u001b[K     |███████████████████████████▎    | 890kB 9.0MB/s eta 0:00:01\r\u001b[K     |███████████████████████████▋    | 901kB 9.0MB/s eta 0:00:01\r\u001b[K     |████████████████████████████    | 911kB 9.0MB/s eta 0:00:01\r\u001b[K     |████████████████████████████▎   | 921kB 9.0MB/s eta 0:00:01\r\u001b[K     |████████████████████████████▋   | 931kB 9.0MB/s eta 0:00:01\r\u001b[K     |████████████████████████████▉   | 942kB 9.0MB/s eta 0:00:01\r\u001b[K     |█████████████████████████████▏  | 952kB 9.0MB/s eta 0:00:01\r\u001b[K     |█████████████████████████████▌  | 962kB 9.0MB/s eta 0:00:01\r\u001b[K     |█████████████████████████████▉  | 972kB 9.0MB/s eta 0:00:01\r\u001b[K     |██████████████████████████████▏ | 983kB 9.0MB/s eta 0:00:01\r\u001b[K     |██████████████████████████████▌ | 993kB 9.0MB/s eta 0:00:01\r\u001b[K     |██████████████████████████████▊ | 1.0MB 9.0MB/s eta 0:00:01\r\u001b[K     |███████████████████████████████ | 1.0MB 9.0MB/s eta 0:00:01\r\u001b[K     |███████████████████████████████▍| 1.0MB 9.0MB/s eta 0:00:01\r\u001b[K     |███████████████████████████████▊| 1.0MB 9.0MB/s eta 0:00:01\r\u001b[K     |████████████████████████████████| 1.0MB 9.0MB/s \n",
            "\u001b[?25hRequirement already satisfied: setuptools in /usr/local/lib/python3.7/dist-packages (from chainer) (57.2.0)\n",
            "Requirement already satisfied: typing_extensions in /usr/local/lib/python3.7/dist-packages (from chainer) (3.7.4.3)\n",
            "Requirement already satisfied: filelock in /usr/local/lib/python3.7/dist-packages (from chainer) (3.0.12)\n",
            "Requirement already satisfied: numpy>=1.9.0 in /usr/local/lib/python3.7/dist-packages (from chainer) (1.19.5)\n",
            "Requirement already satisfied: protobuf>=3.0.0 in /usr/local/lib/python3.7/dist-packages (from chainer) (3.17.3)\n",
            "Requirement already satisfied: six>=1.9.0 in /usr/local/lib/python3.7/dist-packages (from chainer) (1.15.0)\n",
            "Building wheels for collected packages: chainer\n",
            "  Building wheel for chainer (setup.py) ... \u001b[?25l\u001b[?25hdone\n",
            "  Created wheel for chainer: filename=chainer-7.8.0-cp37-none-any.whl size=967735 sha256=6a8ef7cc202587b901be5e3ee9d514dc6a34d12ff8aff4771eb9706792beb56c\n",
            "  Stored in directory: /root/.cache/pip/wheels/9e/2a/68/e29d17f2a8febda6d531a52b595416cb1b6df1b2be02610fed\n",
            "Successfully built chainer\n",
            "Installing collected packages: chainer\n",
            "Successfully installed chainer-7.8.0\n"
          ],
          "name": "stdout"
        },
        {
          "output_type": "stream",
          "text": [
            "/usr/local/lib/python3.7/dist-packages/chainer/_environment_check.py:75: UserWarning: \n",
            "--------------------------------------------------------------------------------\n",
            "CuPy (cupy-cuda101) version 9.1.0 may not be compatible with this version of Chainer.\n",
            "Please consider installing the supported version by running:\n",
            "  $ pip install 'cupy-cuda101>=7.7.0,<8.0.0'\n",
            "\n",
            "See the following page for more details:\n",
            "  https://docs.cupy.dev/en/latest/install.html\n",
            "--------------------------------------------------------------------------------\n",
            "\n",
            "  requirement=requirement, help=help))\n"
          ],
          "name": "stderr"
        },
        {
          "output_type": "stream",
          "text": [
            "Platform: Linux-5.4.104+-x86_64-with-Ubuntu-18.04-bionic\n",
            "Chainer: 7.8.0\n",
            "ChainerX: Not Available\n",
            "NumPy: 1.19.5\n",
            "CuPy:\n",
            "  OS                           : Linux-5.4.104+-x86_64-with-Ubuntu-18.04-bionic\n",
            "  Python Version               : 3.7.11\n",
            "  CuPy Version                 : 9.1.0\n",
            "  CuPy Platform                : NVIDIA CUDA\n",
            "  NumPy Version                : 1.19.5\n",
            "  SciPy Version                : 1.4.1\n",
            "  Cython Build Version         : 0.29.22\n",
            "  Cython Runtime Version       : 0.29.23\n",
            "  CUDA Root                    : /usr/local/cuda\n",
            "  nvcc PATH                    : /usr/local/cuda/bin/nvcc\n",
            "  CUDA Build Version           : 10010\n",
            "  CUDA Driver Version          : 11020\n",
            "  CUDA Runtime Version         : 10010\n",
            "  cuBLAS Version               : 10201\n",
            "  cuFFT Version                : 10101\n",
            "  cuRAND Version               : 10101\n",
            "  cuSOLVER Version             : (10, 2, 0)\n",
            "  cuSPARSE Version             : 10300\n",
            "  NVRTC Version                : (10, 1)\n",
            "  Thrust Version               : 100906\n",
            "  CUB Build Version            : 100800\n",
            "  Jitify Build Version         : 60e9e72\n",
            "  cuDNN Build Version          : 8005\n",
            "  cuDNN Version                : 8004\n",
            "  NCCL Build Version           : 2803\n",
            "  NCCL Runtime Version         : 2708\n",
            "  cuTENSOR Version             : None\n",
            "  cuSPARSELt Build Version     : None\n",
            "  Device 0 Name                : Tesla T4\n",
            "  Device 0 Compute Capability  : 75\n",
            "  Device 0 PCI Bus ID          : 0000:00:04.0\n",
            "iDeep: 2.0.0.post3\n"
          ],
          "name": "stdout"
        }
      ]
    },
    {
      "cell_type": "code",
      "metadata": {
        "id": "EkrEO7vIIPym"
      },
      "source": [
        "import os\n",
        "os.environ['CUDA_HOME'] = \"/usr/local/cuda\""
      ],
      "execution_count": null,
      "outputs": []
    },
    {
      "cell_type": "code",
      "metadata": {
        "id": "vtd0th84B0Zg",
        "colab": {
          "base_uri": "https://localhost:8080/"
        },
        "outputId": "ab82f071-54dd-4649-9fcc-0b3e4c6f0535"
      },
      "source": [
        "!pip install moviepy"
      ],
      "execution_count": null,
      "outputs": [
        {
          "output_type": "stream",
          "text": [
            "Requirement already satisfied: moviepy in /usr/local/lib/python3.7/dist-packages (0.2.3.5)\n",
            "Requirement already satisfied: tqdm<5.0,>=4.11.2 in /usr/local/lib/python3.7/dist-packages (from moviepy) (4.41.1)\n",
            "Requirement already satisfied: numpy in /usr/local/lib/python3.7/dist-packages (from moviepy) (1.19.5)\n",
            "Requirement already satisfied: imageio<3.0,>=2.1.2 in /usr/local/lib/python3.7/dist-packages (from moviepy) (2.4.1)\n",
            "Requirement already satisfied: decorator<5.0,>=4.0.2 in /usr/local/lib/python3.7/dist-packages (from moviepy) (4.4.2)\n",
            "Requirement already satisfied: pillow in /usr/local/lib/python3.7/dist-packages (from imageio<3.0,>=2.1.2->moviepy) (7.1.2)\n"
          ],
          "name": "stdout"
        }
      ]
    },
    {
      "cell_type": "code",
      "metadata": {
        "id": "xXFs3ii5Co82",
        "colab": {
          "base_uri": "https://localhost:8080/"
        },
        "outputId": "19f59b2e-3033-4d59-ce34-17747b3c7a49"
      },
      "source": [
        "cd /content/3d-ken-burns"
      ],
      "execution_count": null,
      "outputs": [
        {
          "output_type": "stream",
          "text": [
            "/content/3d-ken-burns\n"
          ],
          "name": "stdout"
        }
      ]
    },
    {
      "cell_type": "code",
      "metadata": {
        "id": "2z5hGImGGOEj"
      },
      "source": [
        "!rm images/README.md\n",
        "!mkdir results"
      ],
      "execution_count": null,
      "outputs": []
    },
    {
      "cell_type": "markdown",
      "metadata": {
        "id": "ndl8FGKxM_hk"
      },
      "source": [
        "### 3. Upload several a pictures from your filesystem"
      ]
    },
    {
      "cell_type": "code",
      "metadata": {
        "id": "wgRSDEfRJ6ha",
        "colab": {
          "resources": {
            "http://localhost:8080/nbextensions/google.colab/files.js": {
              "data": "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",
              "ok": true,
              "headers": [
                [
                  "content-type",
                  "application/javascript"
                ]
              ],
              "status": 200,
              "status_text": ""
            }
          },
          "base_uri": "https://localhost:8080/",
          "height": 72
        },
        "outputId": "b0d8fca6-319b-4bee-d076-45d4e4627cc2"
      },
      "source": [
        "from google.colab import files\n",
        "\n",
        "uploaded = files.upload()\n",
        "for filename in uploaded.keys():\n",
        "  !mv ./$filename ./images/$filename"
      ],
      "execution_count": null,
      "outputs": [
        {
          "output_type": "display_data",
          "data": {
            "text/html": [
              "\n",
              "     <input type=\"file\" id=\"files-64fcf542-c7cc-4807-8430-ac7597336fcd\" name=\"files[]\" multiple disabled\n",
              "        style=\"border:none\" />\n",
              "     <output id=\"result-64fcf542-c7cc-4807-8430-ac7597336fcd\">\n",
              "      Upload widget is only available when the cell has been executed in the\n",
              "      current browser session. Please rerun this cell to enable.\n",
              "      </output>\n",
              "      <script src=\"/nbextensions/google.colab/files.js\"></script> "
            ],
            "text/plain": [
              "<IPython.core.display.HTML object>"
            ]
          },
          "metadata": {
            "tags": []
          }
        },
        {
          "output_type": "stream",
          "text": [
            "Saving lost.jpeg to lost.jpeg\n"
          ],
          "name": "stdout"
        }
      ]
    },
    {
      "cell_type": "markdown",
      "metadata": {
        "id": "Daw9Ptv5P_EG"
      },
      "source": [
        "### 4. Apply (bulk) 3D Ken Burns Effect"
      ]
    },
    {
      "cell_type": "code",
      "metadata": {
        "colab": {
          "base_uri": "https://localhost:8080/"
        },
        "id": "QQW37EDyzmVQ",
        "outputId": "288bdb16-78b9-4676-bc0b-74ad759feda3"
      },
      "source": [
        "!pip install gevent"
      ],
      "execution_count": null,
      "outputs": [
        {
          "output_type": "stream",
          "text": [
            "Collecting gevent\n",
            "\u001b[?25l  Downloading https://files.pythonhosted.org/packages/3e/85/df3d1fd2b60a87455475f93012861b76a411d27ba4a0859939adbe2c9dc3/gevent-21.1.2-cp37-cp37m-manylinux2010_x86_64.whl (5.6MB)\n",
            "\u001b[K     |████████████████████████████████| 5.6MB 9.5MB/s \n",
            "\u001b[?25hCollecting zope.event\n",
            "  Downloading https://files.pythonhosted.org/packages/9e/85/b45408c64f3b888976f1d5b37eed8d746b8d5729a66a49ec846fda27d371/zope.event-4.5.0-py2.py3-none-any.whl\n",
            "Requirement already satisfied: greenlet<2.0,>=0.4.17; platform_python_implementation == \"CPython\" in /usr/local/lib/python3.7/dist-packages (from gevent) (1.1.0)\n",
            "Requirement already satisfied: setuptools in /usr/local/lib/python3.7/dist-packages (from gevent) (57.2.0)\n",
            "Collecting zope.interface\n",
            "\u001b[?25l  Downloading https://files.pythonhosted.org/packages/bb/a7/94e1a92c71436f934cdd2102826fa041c83dcb7d21dd0f1fb1a57f6e0620/zope.interface-5.4.0-cp37-cp37m-manylinux2010_x86_64.whl (251kB)\n",
            "\u001b[K     |████████████████████████████████| 256kB 53.1MB/s \n",
            "\u001b[?25hInstalling collected packages: zope.event, zope.interface, gevent\n",
            "Successfully installed gevent-21.1.2 zope.event-4.5.0 zope.interface-5.4.0\n"
          ],
          "name": "stdout"
        }
      ]
    },
    {
      "cell_type": "code",
      "metadata": {
        "id": "H_6mgeGBDdVD",
        "colab": {
          "base_uri": "https://localhost:8080/"
        },
        "outputId": "a2586a2f-366e-4de2-cbc5-db21c21e2adf"
      },
      "source": [
        "!for image in ./images/*; do python autozoom.py --in $image --out ./results/$(basename $image | cut -f1 -d '.').mp4; done"
      ],
      "execution_count": null,
      "outputs": [
        {
          "output_type": "stream",
          "text": [
            "[MoviePy] >>>> Building video ./results/lost.mp4\n",
            "[MoviePy] Writing video ./results/lost.mp4\n",
            "100% 150/150 [00:04<00:00, 32.76it/s]\n",
            "[MoviePy] Done.\n",
            "[MoviePy] >>>> Video ready: ./results/lost.mp4 \n",
            "\n"
          ],
          "name": "stdout"
        }
      ]
    },
    {
      "cell_type": "markdown",
      "metadata": {
        "id": "wOyjsg55NeI0"
      },
      "source": [
        "#### Now you have all your videos under the folder **results** and you can *manually* right click and download them.\n",
        "\n",
        "### If you want to *automatically* download all the videos run the following cell:"
      ]
    },
    {
      "cell_type": "code",
      "metadata": {
        "id": "7vYU0HNyP2Yu",
        "colab": {
          "base_uri": "https://localhost:8080/",
          "height": 17
        },
        "outputId": "e08097a8-a16b-4aa0-832e-0fd42ce39412"
      },
      "source": [
        "for filename in os.listdir(\"./results\"):\n",
        "  extension = os.path.splitext(filename)[-1].lower()\n",
        "  if extension == \".mp4\":\n",
        "    files.download(\"./results/\" + filename)\n"
      ],
      "execution_count": null,
      "outputs": [
        {
          "output_type": "display_data",
          "data": {
            "application/javascript": [
              "\n",
              "    async function download(id, filename, size) {\n",
              "      if (!google.colab.kernel.accessAllowed) {\n",
              "        return;\n",
              "      }\n",
              "      const div = document.createElement('div');\n",
              "      const label = document.createElement('label');\n",
              "      label.textContent = `Downloading \"${filename}\": `;\n",
              "      div.appendChild(label);\n",
              "      const progress = document.createElement('progress');\n",
              "      progress.max = size;\n",
              "      div.appendChild(progress);\n",
              "      document.body.appendChild(div);\n",
              "\n",
              "      const buffers = [];\n",
              "      let downloaded = 0;\n",
              "\n",
              "      const channel = await google.colab.kernel.comms.open(id);\n",
              "      // Send a message to notify the kernel that we're ready.\n",
              "      channel.send({})\n",
              "\n",
              "      for await (const message of channel.messages) {\n",
              "        // Send a message to notify the kernel that we're ready.\n",
              "        channel.send({})\n",
              "        if (message.buffers) {\n",
              "          for (const buffer of message.buffers) {\n",
              "            buffers.push(buffer);\n",
              "            downloaded += buffer.byteLength;\n",
              "            progress.value = downloaded;\n",
              "          }\n",
              "        }\n",
              "      }\n",
              "      const blob = new Blob(buffers, {type: 'application/binary'});\n",
              "      const a = document.createElement('a');\n",
              "      a.href = window.URL.createObjectURL(blob);\n",
              "      a.download = filename;\n",
              "      div.appendChild(a);\n",
              "      a.click();\n",
              "      div.remove();\n",
              "    }\n",
              "  "
            ],
            "text/plain": [
              "<IPython.core.display.Javascript object>"
            ]
          },
          "metadata": {
            "tags": []
          }
        },
        {
          "output_type": "display_data",
          "data": {
            "application/javascript": [
              "download(\"download_33b4d97f-0b8e-4820-a602-7301aa84b4cc\", \"EF6D510E-6F19-443C-A633-8617811C59F8.mp4\", 488163)"
            ],
            "text/plain": [
              "<IPython.core.display.Javascript object>"
            ]
          },
          "metadata": {
            "tags": []
          }
        },
        {
          "output_type": "display_data",
          "data": {
            "application/javascript": [
              "\n",
              "    async function download(id, filename, size) {\n",
              "      if (!google.colab.kernel.accessAllowed) {\n",
              "        return;\n",
              "      }\n",
              "      const div = document.createElement('div');\n",
              "      const label = document.createElement('label');\n",
              "      label.textContent = `Downloading \"${filename}\": `;\n",
              "      div.appendChild(label);\n",
              "      const progress = document.createElement('progress');\n",
              "      progress.max = size;\n",
              "      div.appendChild(progress);\n",
              "      document.body.appendChild(div);\n",
              "\n",
              "      const buffers = [];\n",
              "      let downloaded = 0;\n",
              "\n",
              "      const channel = await google.colab.kernel.comms.open(id);\n",
              "      // Send a message to notify the kernel that we're ready.\n",
              "      channel.send({})\n",
              "\n",
              "      for await (const message of channel.messages) {\n",
              "        // Send a message to notify the kernel that we're ready.\n",
              "        channel.send({})\n",
              "        if (message.buffers) {\n",
              "          for (const buffer of message.buffers) {\n",
              "            buffers.push(buffer);\n",
              "            downloaded += buffer.byteLength;\n",
              "            progress.value = downloaded;\n",
              "          }\n",
              "        }\n",
              "      }\n",
              "      const blob = new Blob(buffers, {type: 'application/binary'});\n",
              "      const a = document.createElement('a');\n",
              "      a.href = window.URL.createObjectURL(blob);\n",
              "      a.download = filename;\n",
              "      div.appendChild(a);\n",
              "      a.click();\n",
              "      div.remove();\n",
              "    }\n",
              "  "
            ],
            "text/plain": [
              "<IPython.core.display.Javascript object>"
            ]
          },
          "metadata": {
            "tags": []
          }
        },
        {
          "output_type": "display_data",
          "data": {
            "application/javascript": [
              "download(\"download_930563d5-f2df-4690-ac0e-f06f6eb1fcda\", \"doublestrike.mp4\", 512925)"
            ],
            "text/plain": [
              "<IPython.core.display.Javascript object>"
            ]
          },
          "metadata": {
            "tags": []
          }
        }
      ]
    }
  ]
}